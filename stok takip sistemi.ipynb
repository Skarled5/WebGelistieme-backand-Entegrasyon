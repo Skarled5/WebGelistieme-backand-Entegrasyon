{
 "cells": [
  {
   "cell_type": "code",
   "execution_count": null,
   "id": "492f44ee",
   "metadata": {},
   "outputs": [],
   "source": [
    "class InventoryItem:\n",
    "    def __init__(self, name, quantity):\n",
    "        self.name = name\n",
    "        self.quantity = quantity\n",
    "\n",
    "class Inventory:\n",
    "    def __init__(self):\n",
    "        self.items = []\n",
    "\n",
    "    def add_item(self, item):\n",
    "        self.items.append(item)\n",
    "\n",
    "    def update_item_quantity(self, item_name, new_quantity):\n",
    "        for item in self.items:\n",
    "            if item.name == item_name:\n",
    "                item.quantity = new_quantity\n",
    "                break\n",
    "\n",
    "    def purchase_item(self, item_name, quantity):\n",
    "        for item in self.items:\n",
    "            if item.name == item_name:\n",
    "                if item.quantity >= quantity:\n",
    "                    item.quantity -= quantity\n",
    "                    print(f\"Satın alma başarılı: {quantity} adet {item_name}\")\n",
    "                else:\n",
    "                    print(f\"Stokta yeterli {item_name} yok.\")\n",
    "                break\n",
    "\n",
    "    def check_stock(self):\n",
    "        for item in self.items:\n",
    "            print(f\"{item.name}: {item.quantity} adet\")\n",
    "\n",
    "# Örnek kullanım\n",
    "inventory = Inventory()\n",
    "\n",
    "item1 = InventoryItem(\"Kalem\", 10)\n",
    "item2 = InventoryItem(\"Defter\", 5)\n",
    "item3 = InventoryItem(\"Silgi\", 3)\n",
    "\n",
    "inventory.add_item(item1)\n",
    "inventory.add_item(item2)\n",
    "inventory.add_item(item3)\n",
    "\n",
    "inventory.check_stock()\n",
    "\n",
    "inventory.purchase_item(\"Kalem\", 3)\n",
    "inventory.purchase_item(\"Defter\", 7)\n",
    "\n",
    "inventory.check_stock()"
   ]
  }
 ],
 "metadata": {
  "kernelspec": {
   "display_name": "Python 3 (ipykernel)",
   "language": "python",
   "name": "python3"
  },
  "language_info": {
   "codemirror_mode": {
    "name": "ipython",
    "version": 3
   },
   "file_extension": ".py",
   "mimetype": "text/x-python",
   "name": "python",
   "nbconvert_exporter": "python",
   "pygments_lexer": "ipython3",
   "version": "3.9.12"
  }
 },
 "nbformat": 4,
 "nbformat_minor": 5
}
