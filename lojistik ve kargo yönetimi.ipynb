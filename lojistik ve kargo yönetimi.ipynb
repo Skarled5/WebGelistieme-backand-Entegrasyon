{
 "cells": [
  {
   "cell_type": "code",
   "execution_count": null,
   "id": "1080a112",
   "metadata": {},
   "outputs": [],
   "source": [
    "# import requests\n",
    "\n",
    "def kargo_izleme(kargo_numarasi):\n",
    "    # API isteği için gerekli bilgileri ayarlayın\n",
    "    api_url = \"API_URL\"  # Kargo şirketinin API URL'sini buraya girin\n",
    "    api_key = \"API_KEY\"  # Kargo şirketinden alınan API anahtarını buraya girin\n",
    "\n",
    "    # API isteğini oluşturun\n",
    "    headers = {'Authorization': 'Bearer ' + api_key}\n",
    "    params = {'kargo_numarasi': kargo_numarasi}\n",
    "    response = requests.get(api_url, headers=headers, params=params)\n",
    "\n",
    "    # API yanıtını işleyin\n",
    "    if response.status_code == 200:\n",
    "        kargo_durumu = response.json()  # Yanıtı JSON formatında alın\n",
    "        # Kargo durumuyla ilgili işlemleri yapın\n",
    "        print(kargo_durumu)\n",
    "    else:\n",
    "        print(\"Kargo izleme isteği başarısız oldu.\")\n",
    "\n",
    "# Kargo takip numarasını belirleyin\n",
    "kargo_numarasi = \"TAKIP_NUMARASI\"\n",
    "\n",
    "# Kargo izleme işlemini gerçekleştirin\n",
    "kargo_izleme(kargo_numarasi)"
   ]
  },
  {
   "cell_type": "code",
   "execution_count": 2,
   "id": "f6fb064b",
   "metadata": {},
   "outputs": [
    {
     "name": "stdout",
     "output_type": "stream",
     "text": [
      "Kargonun durumu güncel değil.\n"
     ]
    }
   ],
   "source": [
    "import datetime\n",
    "\n",
    "def kargo_durumu_guncel_mi(kargo_guncelleme_zamani):\n",
    "    # Şu anki zamanı al\n",
    "    su_an = datetime.datetime.now()\n",
    "\n",
    "    # Zaman farkını hesapla\n",
    "    zaman_farki = su_an - kargo_guncelleme_zamani\n",
    "\n",
    "    # Zaman farkını saniye cinsinden al\n",
    "    zaman_farki_saniye = zaman_farki.total_seconds()\n",
    "\n",
    "    # Örnek olarak 1 saat (3600 saniye) geçmişse durum güncel değil\n",
    "    if zaman_farki_saniye > 3600:\n",
    "        return False\n",
    "    else:\n",
    "        return True\n",
    "\n",
    "# Kargo durumunun son güncelleme zamanı\n",
    "kargo_guncelleme_zamani = datetime.datetime(2023, 6, 19, 14, 30)  # Örnek olarak 2023-06-19 14:30\n",
    "\n",
    "# Kargonun durumu güncel mi kontrol et\n",
    "durum_guncel_mi = kargo_durumu_guncel_mi(kargo_guncelleme_zamani)\n",
    "\n",
    "# Durum güncelse\n",
    "if durum_guncel_mi:\n",
    "    print(\"Kargonun durumu güncel.\")\n",
    "else:\n",
    "    print(\"Kargonun durumu güncel değil.\")"
   ]
  },
  {
   "cell_type": "code",
   "execution_count": null,
   "id": "fdad9332",
   "metadata": {},
   "outputs": [],
   "source": []
  }
 ],
 "metadata": {
  "kernelspec": {
   "display_name": "Python 3 (ipykernel)",
   "language": "python",
   "name": "python3"
  },
  "language_info": {
   "codemirror_mode": {
    "name": "ipython",
    "version": 3
   },
   "file_extension": ".py",
   "mimetype": "text/x-python",
   "name": "python",
   "nbconvert_exporter": "python",
   "pygments_lexer": "ipython3",
   "version": "3.9.12"
  }
 },
 "nbformat": 4,
 "nbformat_minor": 5
}
