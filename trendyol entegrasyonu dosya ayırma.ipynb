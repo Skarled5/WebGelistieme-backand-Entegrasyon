{
 "cells": [
  {
   "cell_type": "code",
   "execution_count": 1,
   "id": "8912e2ff",
   "metadata": {},
   "outputs": [
    {
     "ename": "SyntaxError",
     "evalue": "invalid syntax (4204152380.py, line 1)",
     "output_type": "error",
     "traceback": [
      "\u001b[1;36m  Input \u001b[1;32mIn [1]\u001b[1;36m\u001b[0m\n\u001b[1;33m    trendyol_entegrasyonu/\u001b[0m\n\u001b[1;37m                          ^\u001b[0m\n\u001b[1;31mSyntaxError\u001b[0m\u001b[1;31m:\u001b[0m invalid syntax\n"
     ]
    }
   ],
   "source": [
    "trendyol_entegrasyonu/\n",
    "    |- app/\n",
    "    |   |- __init__.py\n",
    "    |   |- routes.py\n",
    "    |   |- database.py\n",
    "    |\n",
    "    |- run.py"
   ]
  },
  {
   "cell_type": "code",
   "execution_count": 2,
   "id": "a9f2517c",
   "metadata": {},
   "outputs": [
    {
     "ename": "ImportError",
     "evalue": "attempted relative import with no known parent package",
     "output_type": "error",
     "traceback": [
      "\u001b[1;31m---------------------------------------------------------------------------\u001b[0m",
      "\u001b[1;31mImportError\u001b[0m                               Traceback (most recent call last)",
      "Input \u001b[1;32mIn [2]\u001b[0m, in \u001b[0;36m<cell line: 2>\u001b[1;34m()\u001b[0m\n\u001b[0;32m      1\u001b[0m \u001b[38;5;28;01mfrom\u001b[39;00m \u001b[38;5;21;01mflask\u001b[39;00m \u001b[38;5;28;01mimport\u001b[39;00m Flask\n\u001b[1;32m----> 2\u001b[0m \u001b[38;5;28;01mfrom\u001b[39;00m \u001b[38;5;21;01m.\u001b[39;00m\u001b[38;5;21;01mdatabase\u001b[39;00m \u001b[38;5;28;01mimport\u001b[39;00m connect_to_database\n\u001b[0;32m      4\u001b[0m app \u001b[38;5;241m=\u001b[39m Flask(\u001b[38;5;18m__name__\u001b[39m)\n\u001b[0;32m      6\u001b[0m \u001b[38;5;66;03m# Veritabanı bağlantısı\u001b[39;00m\n",
      "\u001b[1;31mImportError\u001b[0m: attempted relative import with no known parent package"
     ]
    }
   ],
   "source": [
    "# __init__.py: Flask uygulamasını oluşturacak ve çalıştıracak ana dosya olacak. Aşağıdaki gibi düzenleyelim:\n",
    "\n",
    "from flask import Flask\n",
    "from .database import connect_to_database\n",
    "\n",
    "app = Flask(__name__)\n",
    "\n",
    "# Veritabanı bağlantısı\n",
    "if connect_to_database():\n",
    "    print(\"Veritabanına başarıyla bağlandı.\")\n",
    "else:\n",
    "    print(\"Veritabanına bağlanılamadı.\")\n",
    "\n",
    "# Rota tanımları\n",
    "from . import routes"
   ]
  },
  {
   "cell_type": "code",
   "execution_count": null,
   "id": "32c2f50c",
   "metadata": {},
   "outputs": [],
   "source": [
    "#routes.py: Flask uygulamasının rotalarını ve istekleri işleyecek fonksiyonları içerecek dosya. İşlevleri ayrı dosyalara ayırmak için modüller kullanacağız:\n",
    "\n",
    "from flask import request\n",
    "\n",
    "from .database import get_iade_talepleri, approve_iade_talebi, reject_iade_talebi, get_iade_takibi, get_kargo_takibi\n",
    "\n",
    "# İade talepleri rotası\n",
    "@app.route(\"/iade-talepleri\", methods=[\"GET\"])\n",
    "def iade_taleplerini_al():\n",
    "    iade_talepleri = get_iade_talepleri()\n",
    "    return iade_talepleri\n",
    "\n",
    "# İade talebi onaylama rotası\n",
    "@app.route(\"/iade-talepleri/<iade_id>/onayla\", methods=[\"PUT\"])\n",
    "def iade_talebini_onayla(iade_id):\n",
    "    response = approve_iade_talebi(iade_id)\n",
    "    return response\n",
    "\n",
    "# İade talebi reddetme rotası\n",
    "@app.route(\"/iade-talepleri/<iade_id>/reddet\", methods=[\"PUT\"])\n",
    "def iade_talebini_reddet(iade_id):\n",
    "    response = reject_iade_talebi(iade_id)\n",
    "    return response\n",
    "\n",
    "# İade takibi rotası\n",
    "@app.route(\"/iade-takibi/<iade_id>\", methods=[\"GET\"])\n",
    "def iade_takibini_sagla(iade_id):\n",
    "    iade_bilgileri = get_iade"
   ]
  }
 ],
 "metadata": {
  "kernelspec": {
   "display_name": "Python 3 (ipykernel)",
   "language": "python",
   "name": "python3"
  },
  "language_info": {
   "codemirror_mode": {
    "name": "ipython",
    "version": 3
   },
   "file_extension": ".py",
   "mimetype": "text/x-python",
   "name": "python",
   "nbconvert_exporter": "python",
   "pygments_lexer": "ipython3",
   "version": "3.9.12"
  }
 },
 "nbformat": 4,
 "nbformat_minor": 5
}
