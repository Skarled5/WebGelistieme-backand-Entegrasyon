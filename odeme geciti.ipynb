{
 "cells": [
  {
   "cell_type": "code",
   "execution_count": null,
   "id": "c3bfda52",
   "metadata": {},
   "outputs": [],
   "source": [
    "import requests\n",
    "\n",
    "class PaymentGateway:\n",
    "    def __init__(self, api_key):\n",
    "        self.api_key = api_key\n",
    "        self.api_url = \"https://payment-gateway-api.com\"  # Ödeme ağ geçidi sağlayıcısının API URL'si\n",
    "\n",
    "    def process_payment(self, amount):\n",
    "        headers = {\n",
    "            \"Authorization\": f\"Bearer {self.api_key}\",\n",
    "            \"Content-Type\": \"application/json\"\n",
    "        }\n",
    "\n",
    "        data = {\n",
    "            \"amount\": amount,\n",
    "            \"currency\": \"TRY\",\n",
    "            # Diğer ödeme bilgileri buraya eklenebilir\n",
    "        }\n",
    "\n",
    "        response = requests.post(f\"{self.api_url}/payment\", json=data, headers=headers)\n",
    "\n",
    "        if response.status_code == 200:\n",
    "            print(f\"Ödeme işlemi tamamlandı. Ödenen tutar: {amount} TL\")\n",
    "        else:\n",
    "            print(\"Ödeme işlemi başarısız.\")\n",
    "\n",
    "# Örnek kullanım\n",
    "api_key = \"your-api-key\"\n",
    "payment_gateway = PaymentGateway(api_key)\n",
    "\n",
    "total_amount = 100  # Ödenecek tutar\n",
    "\n",
    "# Ödeme işlemi\n",
    "payment_gateway.process_payment(total_amount)\n",
    "  "
   ]
  }
 ],
 "metadata": {
  "kernelspec": {
   "display_name": "Python 3 (ipykernel)",
   "language": "python",
   "name": "python3"
  },
  "language_info": {
   "codemirror_mode": {
    "name": "ipython",
    "version": 3
   },
   "file_extension": ".py",
   "mimetype": "text/x-python",
   "name": "python",
   "nbconvert_exporter": "python",
   "pygments_lexer": "ipython3",
   "version": "3.9.12"
  }
 },
 "nbformat": 4,
 "nbformat_minor": 5
}
